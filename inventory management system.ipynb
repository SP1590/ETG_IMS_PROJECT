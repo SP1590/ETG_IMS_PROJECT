{
 "cells": [
  {
   "cell_type": "markdown",
   "id": "591aa3f7",
   "metadata": {},
   "source": [
    "# Here import the python libraries\n"
   ]
  },
  {
   "cell_type": "code",
   "execution_count": 1,
   "id": "06b2b64b",
   "metadata": {},
   "outputs": [],
   "source": [
    "import json\n",
    "import pprint\n",
    "import random\n",
    "from datetime import datetime"
   ]
  },
  {
   "cell_type": "markdown",
   "id": "51382ebd",
   "metadata": {},
   "source": [
    "# Here add the Menu of resturant"
   ]
  },
  {
   "cell_type": "code",
   "execution_count": 2,
   "id": "8ff00f2d",
   "metadata": {},
   "outputs": [],
   "source": [
    "menu={}\n",
    "menu[1]={\"Name\":'Vegetable Samosa        ',\"Plate\":1,\"Price\":50.00}\n",
    "menu[2]={\"Name\":'Pakoras                 ',\"Plate\":1,\"Price\":30.00}\n",
    "menu[3]={\"Name\":'Chicken Tikka           ',\"Plate\":1,\"Price\":100.00}\n",
    "menu[4]={\"Name\":'Nawab Panir Tikka       ',\"Plate\":1,\"Price\":120.00}\n",
    "menu[5]={\"Name\":'Vegetable Kashmiri Korma',\"Plate\":1,\"Price\":80.00}\n",
    "menu[6]={\"Name\":'Vegetable Kofta         ',\"Plate\":1,\"Price\":80.00}\n",
    "menu[7]={\"Name\":'Shahi Paneer            ',\"Plate\":1,\"Price\":100.00}\n",
    "menu[8]={\"Name\":'Vegetable Curry         ',\"Plate\":1,\"Price\":60.00}\n",
    "menu[9]={\"Name\":'Butter Chicken          ',\"Plate\":1,\"Price\":90.00}\n",
    "menu[10]={\"Name\":'Fish Curry               ',\"Plate\":1,\"Price\":80.00}"
   ]
  },
  {
   "cell_type": "markdown",
   "id": "d75b2b9e",
   "metadata": {},
   "source": [
    "# Here we printing the bill"
   ]
  },
  {
   "cell_type": "code",
   "execution_count": 10,
   "id": "e058ebc5",
   "metadata": {},
   "outputs": [
    {
     "name": "stdout",
     "output_type": "stream",
     "text": [
      "No of order item6\n",
      "Item code:- 10\n",
      "No. of Item:- 2\n",
      "Fish Curry                           2.0              160.0\n",
      "*************************\n",
      "Item code:- 5\n",
      "No. of Item:- 3\n",
      "Vegetable Kashmiri Korma            3.0              240.0\n",
      "*************************\n",
      "Item code:- 8\n",
      "No. of Item:- 4\n",
      "Vegetable Curry                     4.0              240.0\n",
      "*************************\n",
      "Item code:- 9\n",
      "No. of Item:- 3\n",
      "Butter Chicken                      3.0              270.0\n",
      "*************************\n",
      "Item code:- 4\n",
      "No. of Item:- 2\n",
      "Nawab Panir Tikka                   2.0              240.0\n",
      "*************************\n",
      "Item code:- 5\n",
      "No. of Item:- 3\n",
      "Nawab Panir Tikka                   3.0              160.0\n",
      "*************************\n",
      "total Amount                         1310.0\n",
      "2021-09-06 21:15:21.955377\n"
     ]
    }
   ],
   "source": [
    "    today=datetime.now()\n",
    "    customer_order={}\n",
    "    Id=random.randint(1000000000,9999999999)\n",
    "    customer_order[\"Customer_ID:-       \"]=Id\n",
    "    no_of_order=int(input(\"No of order item\"))\n",
    "    count=0 \n",
    "    itm=0\n",
    "    for i in range(1,no_of_order+1):\n",
    "        item=int(input(\"Item code:- \"))\n",
    "        quantity=float(input(\"No. of Item:- \"))\n",
    "        customer_order[menu[item]['Name']]= quantity\n",
    "        \n",
    "        for j in customer_order:\n",
    "            itm+=1\n",
    "        count+=menu[item]['Price']*customer_order[j]\n",
    "        #print(count)\n",
    "        print(j, \"          \" ,quantity, \"            \"  ,menu[item]['Price']*customer_order[j])\n",
    "        print(\"*************************\")    \n",
    "print(\"total Amount                        \",count)\n",
    "print(today)"
   ]
  },
  {
   "cell_type": "markdown",
   "id": "6ffa4cbd",
   "metadata": {},
   "source": [
    "# Here print , What customer ordered"
   ]
  },
  {
   "cell_type": "code",
   "execution_count": 11,
   "id": "ff9d521b",
   "metadata": {},
   "outputs": [
    {
     "name": "stdout",
     "output_type": "stream",
     "text": [
      "{'Butter Chicken          ': 3.0,\n",
      " 'Customer_ID:-       ': 9753231774,\n",
      " 'Fish Curry               ': 2.0,\n",
      " 'Nawab Panir Tikka       ': 2.0,\n",
      " 'Vegetable Curry         ': 4.0,\n",
      " 'Vegetable Kashmiri Korma': 3.0}\n"
     ]
    }
   ],
   "source": [
    "pprint.pprint(customer_order)"
   ]
  },
  {
   "cell_type": "code",
   "execution_count": 12,
   "id": "32e2fcd3",
   "metadata": {},
   "outputs": [],
   "source": [
    "pq=json.dumps(customer_order)\n",
    "sq=json.dumps(count)"
   ]
  },
  {
   "cell_type": "markdown",
   "id": "5116ae21",
   "metadata": {},
   "source": [
    "# Here we recod a salinig data in json file"
   ]
  },
  {
   "cell_type": "code",
   "execution_count": 13,
   "id": "a128625b",
   "metadata": {},
   "outputs": [],
   "source": [
    "f=open(\"sale_record.json\",\"a\")\n",
    "f.write(\"\\n\")\n",
    "f.write(pq)\n",
    "f.write(\"     \")\n",
    "f.write(\"total amount  \",)\n",
    "f.write(sq)\n",
    "f.write(\"\\n\")\n",
    "\n",
    "\n",
    "f.close()"
   ]
  },
  {
   "cell_type": "code",
   "execution_count": null,
   "id": "f7bf0326",
   "metadata": {},
   "outputs": [],
   "source": []
  }
 ],
 "metadata": {
  "kernelspec": {
   "display_name": "Python 3",
   "language": "python",
   "name": "python3"
  },
  "language_info": {
   "codemirror_mode": {
    "name": "ipython",
    "version": 3
   },
   "file_extension": ".py",
   "mimetype": "text/x-python",
   "name": "python",
   "nbconvert_exporter": "python",
   "pygments_lexer": "ipython3",
   "version": "3.8.8"
  }
 },
 "nbformat": 4,
 "nbformat_minor": 5
}
